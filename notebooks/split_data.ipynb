{
 "cells": [
  {
   "cell_type": "code",
   "execution_count": 3,
   "metadata": {
    "vscode": {
     "languageId": "plaintext"
    }
   },
   "outputs": [
    {
     "name": "stdout",
     "output_type": "stream",
     "text": [
      "Collecting split_folders\n",
      "  Downloading split_folders-0.5.1-py3-none-any.whl.metadata (6.2 kB)\n",
      "Downloading split_folders-0.5.1-py3-none-any.whl (8.4 kB)\n",
      "Installing collected packages: split_folders\n",
      "Successfully installed split_folders-0.5.1\n"
     ]
    }
   ],
   "source": [
    "!pip install split_folders"
   ]
  },
  {
   "cell_type": "code",
   "execution_count": 4,
   "metadata": {
    "vscode": {
     "languageId": "plaintext"
    }
   },
   "outputs": [],
   "source": [
    "import os\n",
    "import splitfolders"
   ]
  },
  {
   "cell_type": "markdown",
   "metadata": {},
   "source": [
    "# Split Dataset"
   ]
  },
  {
   "cell_type": "code",
   "execution_count": 7,
   "metadata": {
    "vscode": {
     "languageId": "plaintext"
    }
   },
   "outputs": [
    {
     "name": "stdout",
     "output_type": "stream",
     "text": [
      "Dataset split completed.\n",
      "Jumlah file dalam folder train: 3\n",
      "Jumlah file dalam folder val: 3\n",
      "Jumlah file dalam folder test: 3\n"
     ]
    }
   ],
   "source": [
    "\"\"\"\n",
    "    Dataset Plant Village\n",
    "    Dataset telah diseimbangkan menjadi 275 data gambar per kelas\n",
    "\"\"\"\n",
    "\n",
    "# Path dataset asal\n",
    "input_folder = '../data/plantVillage'\n",
    "# Path output untuk menyimpan subset train, validation, dan test\n",
    "output_folder = '../data/combined'\n",
    "\n",
    "# Menggunakan split-folders untuk membagi dataset\n",
    "splitfolders.ratio(input_folder, output=output_folder, seed=32, ratio=(0.7, 0.1, 0.2), group_prefix=None)\n",
    "\n",
    "print(\"Dataset split completed.\")\n",
    "\n",
    "# Membaca daftar file dalam folder\n",
    "train_list = os.listdir(output_folder+\"/train\")\n",
    "val_list = os.listdir(output_folder+\"/val\")\n",
    "test_list = os.listdir(output_folder+\"/test\")\n",
    "\n",
    "# Menghitung jumlah file dalam folder\n",
    "num_train = len(train_list)\n",
    "num_val = len(val_list)\n",
    "num_test = len(test_list)\n",
    "\n",
    "print(f\"Jumlah file dalam folder train: {num_train}\")\n",
    "print(f\"Jumlah file dalam folder val: {num_val}\")\n",
    "print(f\"Jumlah file dalam folder test: {num_test}\")"
   ]
  },
  {
   "cell_type": "code",
   "execution_count": 8,
   "metadata": {},
   "outputs": [
    {
     "name": "stdout",
     "output_type": "stream",
     "text": [
      "Dataset split completed.\n",
      "Jumlah file dalam folder train: 3\n",
      "Jumlah file dalam folder val: 3\n",
      "Jumlah file dalam folder test: 3\n"
     ]
    }
   ],
   "source": [
    "\"\"\"\n",
    "    Dataset Plant Pathology\n",
    "    Dataset telah diseimbangkan menjadi 275 data gambar per kelas\n",
    "\"\"\"\n",
    "\n",
    "# Path dataset asal\n",
    "input_folder = '../data/plantPathology'\n",
    "# Path output untuk menyimpan subset train, validation, dan test\n",
    "output_folder = '../data/combined'\n",
    "\n",
    "# Menggunakan split-folders untuk membagi dataset\n",
    "splitfolders.ratio(input_folder, output=output_folder, seed=32, ratio=(0.7, 0.1, 0.2), group_prefix=None)\n",
    "\n",
    "print(\"Dataset split completed.\")\n",
    "\n",
    "# Membaca daftar file dalam folder\n",
    "train_list = os.listdir(output_folder+\"/train\")\n",
    "val_list = os.listdir(output_folder+\"/val\")\n",
    "test_list = os.listdir(output_folder+\"/test\")\n",
    "\n",
    "# Menghitung jumlah file dalam folder\n",
    "num_train = len(train_list)\n",
    "num_val = len(val_list)\n",
    "num_test = len(test_list)\n",
    "\n",
    "print(f\"Jumlah file dalam folder train: {num_train}\")\n",
    "print(f\"Jumlah file dalam folder val: {num_val}\")\n",
    "print(f\"Jumlah file dalam folder test: {num_test}\")"
   ]
  }
 ],
 "metadata": {
  "kernelspec": {
   "display_name": "Python 3 (ipykernel)",
   "language": "python",
   "name": "python3"
  },
  "language_info": {
   "codemirror_mode": {
    "name": "ipython",
    "version": 3
   },
   "file_extension": ".py",
   "mimetype": "text/x-python",
   "name": "python",
   "nbconvert_exporter": "python",
   "pygments_lexer": "ipython3",
   "version": "3.12.3"
  }
 },
 "nbformat": 4,
 "nbformat_minor": 4
}
